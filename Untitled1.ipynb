{
 "cells": [
  {
   "cell_type": "code",
   "execution_count": 10,
   "metadata": {},
   "outputs": [
    {
     "name": "stdout",
     "output_type": "stream",
     "text": [
      "     SepalLengthCm  SepalWidthCm  PetalLengthCm  PetalWidthCm\n",
      "79             5.7           2.6            3.5           1.0\n",
      "105            7.6           3.0            6.6           2.1\n",
      "3              4.6           3.1            1.5           0.2\n",
      "20             5.4           3.4            1.7           0.2\n",
      "55             5.7           2.8            4.5           1.3\n",
      "98             5.1           2.5            3.0           1.1\n",
      "139            6.9           3.1            5.4           2.1\n",
      "71             6.1           2.8            4.0           1.3\n",
      "47             4.6           3.2            1.4           0.2\n",
      "115            6.4           3.2            5.3           2.3\n",
      "145            6.7           3.0            5.2           2.3\n",
      "65             6.7           3.1            4.4           1.4\n",
      "111            6.4           2.7            5.3           1.9\n",
      "138            6.0           3.0            4.8           1.8\n",
      "46             5.1           3.8            1.6           0.2\n",
      "127            6.1           3.0            4.9           1.8\n",
      "52             6.9           3.1            4.9           1.5\n",
      "23             5.1           3.3            1.7           0.5\n",
      "49             5.0           3.3            1.4           0.2\n",
      "108            6.7           2.5            5.8           1.8\n",
      "141            6.9           3.1            5.1           2.3\n",
      "81             5.5           2.4            3.7           1.0\n",
      "77             6.7           3.0            5.0           1.7\n",
      "22             4.6           3.6            1.0           0.2\n",
      "126            6.2           2.8            4.8           1.8\n",
      "117            7.7           3.8            6.7           2.2\n",
      "41             4.5           2.3            1.3           0.3\n",
      "18             5.7           3.8            1.7           0.3\n",
      "123            6.3           2.7            4.9           1.8\n",
      "9              4.9           3.1            1.5           0.1\n",
      "['Iris-versicolor' 'Iris-virginica' 'Iris-setosa' 'Iris-setosa'\n",
      " 'Iris-versicolor' 'Iris-versicolor' 'Iris-virginica' 'Iris-versicolor'\n",
      " 'Iris-setosa' 'Iris-virginica' 'Iris-virginica' 'Iris-versicolor'\n",
      " 'Iris-virginica' 'Iris-versicolor' 'Iris-setosa' 'Iris-versicolor'\n",
      " 'Iris-versicolor' 'Iris-setosa' 'Iris-setosa' 'Iris-virginica'\n",
      " 'Iris-virginica' 'Iris-versicolor' 'Iris-virginica' 'Iris-setosa'\n",
      " 'Iris-versicolor' 'Iris-virginica' 'Iris-setosa' 'Iris-setosa'\n",
      " 'Iris-versicolor' 'Iris-setosa']\n"
     ]
    }
   ],
   "source": [
    "import pandas as pd\n",
    "import matplotlib.pyplot as plt\n",
    "from sklearn.model_selection import train_test_split\n",
    "from sklearn.neighbors import KNeighborsClassifier\n",
    "\n",
    "data=pd.read_csv('Iris.csv')\n",
    "data=data.drop(columns='Id')\n",
    "X=data.drop(columns='Species')\n",
    "y=data['Species']\n",
    "X_train, X_test, y_train, y_test = train_test_split(X, y, test_size=0.20)\n",
    "\n",
    "classifier = KNeighborsClassifier(n_neighbors=5)\n",
    "classifier.fit(X_train, y_train)\n",
    "\n",
    "y_pred = classifier.predict(X_test)\n",
    "print(X_test)\n",
    "print(y_pred)"
   ]
  },
  {
   "cell_type": "code",
   "execution_count": null,
   "metadata": {},
   "outputs": [],
   "source": []
  }
 ],
 "metadata": {
  "kernelspec": {
   "display_name": "Python 3",
   "language": "python",
   "name": "python3"
  },
  "language_info": {
   "codemirror_mode": {
    "name": "ipython",
    "version": 3
   },
   "file_extension": ".py",
   "mimetype": "text/x-python",
   "name": "python",
   "nbconvert_exporter": "python",
   "pygments_lexer": "ipython3",
   "version": "3.7.6"
  }
 },
 "nbformat": 4,
 "nbformat_minor": 4
}
